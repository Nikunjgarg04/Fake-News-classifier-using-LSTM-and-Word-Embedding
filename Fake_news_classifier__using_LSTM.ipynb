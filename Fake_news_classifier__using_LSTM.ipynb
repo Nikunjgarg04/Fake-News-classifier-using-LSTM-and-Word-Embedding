{
  "nbformat": 4,
  "nbformat_minor": 0,
  "metadata": {
    "colab": {
      "name": "Fake_news_classifier _using_LSTM.ipynb",
      "provenance": []
    },
    "kernelspec": {
      "name": "python3",
      "display_name": "Python 3"
    }
  },
  "cells": [
    {
      "cell_type": "code",
      "metadata": {
        "id": "ygMgyWrUgjrH"
      },
      "source": [
        "import pandas as pd\r\n",
        "import tensorflow as tf\r\n",
        "import numpy as np"
      ],
      "execution_count": 2,
      "outputs": []
    },
    {
      "cell_type": "code",
      "metadata": {
        "id": "2HPtcG2yrMCW"
      },
      "source": [
        "df=pd.read_csv('train.csv')"
      ],
      "execution_count": 3,
      "outputs": []
    },
    {
      "cell_type": "code",
      "metadata": {
        "colab": {
          "base_uri": "https://localhost:8080/",
          "height": 221
        },
        "id": "ST1t4MkVrMRg",
        "outputId": "9aa8790e-e485-4a52-e4f8-910bdddaeec7"
      },
      "source": [
        "df.head()"
      ],
      "execution_count": 4,
      "outputs": [
        {
          "output_type": "execute_result",
          "data": {
            "text/html": [
              "<div>\n",
              "<style scoped>\n",
              "    .dataframe tbody tr th:only-of-type {\n",
              "        vertical-align: middle;\n",
              "    }\n",
              "\n",
              "    .dataframe tbody tr th {\n",
              "        vertical-align: top;\n",
              "    }\n",
              "\n",
              "    .dataframe thead th {\n",
              "        text-align: right;\n",
              "    }\n",
              "</style>\n",
              "<table border=\"1\" class=\"dataframe\">\n",
              "  <thead>\n",
              "    <tr style=\"text-align: right;\">\n",
              "      <th></th>\n",
              "      <th>id</th>\n",
              "      <th>title</th>\n",
              "      <th>author</th>\n",
              "      <th>text</th>\n",
              "      <th>label</th>\n",
              "    </tr>\n",
              "  </thead>\n",
              "  <tbody>\n",
              "    <tr>\n",
              "      <th>0</th>\n",
              "      <td>0</td>\n",
              "      <td>House Dem Aide: We Didn’t Even See Comey’s Let...</td>\n",
              "      <td>Darrell Lucus</td>\n",
              "      <td>House Dem Aide: We Didn’t Even See Comey’s Let...</td>\n",
              "      <td>1</td>\n",
              "    </tr>\n",
              "    <tr>\n",
              "      <th>1</th>\n",
              "      <td>1</td>\n",
              "      <td>FLYNN: Hillary Clinton, Big Woman on Campus - ...</td>\n",
              "      <td>Daniel J. Flynn</td>\n",
              "      <td>Ever get the feeling your life circles the rou...</td>\n",
              "      <td>0</td>\n",
              "    </tr>\n",
              "    <tr>\n",
              "      <th>2</th>\n",
              "      <td>2</td>\n",
              "      <td>Why the Truth Might Get You Fired</td>\n",
              "      <td>Consortiumnews.com</td>\n",
              "      <td>Why the Truth Might Get You Fired October 29, ...</td>\n",
              "      <td>1</td>\n",
              "    </tr>\n",
              "    <tr>\n",
              "      <th>3</th>\n",
              "      <td>3</td>\n",
              "      <td>15 Civilians Killed In Single US Airstrike Hav...</td>\n",
              "      <td>Jessica Purkiss</td>\n",
              "      <td>Videos 15 Civilians Killed In Single US Airstr...</td>\n",
              "      <td>1</td>\n",
              "    </tr>\n",
              "    <tr>\n",
              "      <th>4</th>\n",
              "      <td>4</td>\n",
              "      <td>Iranian woman jailed for fictional unpublished...</td>\n",
              "      <td>Howard Portnoy</td>\n",
              "      <td>Print \\nAn Iranian woman has been sentenced to...</td>\n",
              "      <td>1</td>\n",
              "    </tr>\n",
              "  </tbody>\n",
              "</table>\n",
              "</div>"
            ],
            "text/plain": [
              "   id  ... label\n",
              "0   0  ...     1\n",
              "1   1  ...     0\n",
              "2   2  ...     1\n",
              "3   3  ...     1\n",
              "4   4  ...     1\n",
              "\n",
              "[5 rows x 5 columns]"
            ]
          },
          "metadata": {
            "tags": []
          },
          "execution_count": 4
        }
      ]
    },
    {
      "cell_type": "code",
      "metadata": {
        "id": "qE-sh0zIrXtO"
      },
      "source": [
        "df=df.dropna()"
      ],
      "execution_count": 5,
      "outputs": []
    },
    {
      "cell_type": "code",
      "metadata": {
        "id": "SRt-gCOrrXwT"
      },
      "source": [
        "X=df.drop('label',axis=1)"
      ],
      "execution_count": 6,
      "outputs": []
    },
    {
      "cell_type": "code",
      "metadata": {
        "id": "Y-YD_vq-ro-_"
      },
      "source": [
        "y=df['label']"
      ],
      "execution_count": 7,
      "outputs": []
    },
    {
      "cell_type": "code",
      "metadata": {
        "colab": {
          "base_uri": "https://localhost:8080/"
        },
        "id": "Rs8114WsrpCq",
        "outputId": "ea51d34a-f39c-44b6-db85-9c65729e6e3b"
      },
      "source": [
        "X.shape"
      ],
      "execution_count": 8,
      "outputs": [
        {
          "output_type": "execute_result",
          "data": {
            "text/plain": [
              "(18285, 4)"
            ]
          },
          "metadata": {
            "tags": []
          },
          "execution_count": 8
        }
      ]
    },
    {
      "cell_type": "code",
      "metadata": {
        "colab": {
          "base_uri": "https://localhost:8080/"
        },
        "id": "rttxcsdErwKw",
        "outputId": "4dff9a60-42a0-4b8e-869b-3d630d01aa94"
      },
      "source": [
        "y.shape"
      ],
      "execution_count": 9,
      "outputs": [
        {
          "output_type": "execute_result",
          "data": {
            "text/plain": [
              "(18285,)"
            ]
          },
          "metadata": {
            "tags": []
          },
          "execution_count": 9
        }
      ]
    },
    {
      "cell_type": "code",
      "metadata": {
        "id": "YQHDDj2yrwSe"
      },
      "source": [
        "from tensorflow.keras.layers import Embedding\r\n",
        "from tensorflow.keras.preprocessing.sequence import pad_sequences\r\n",
        "from tensorflow.keras.models import Sequential\r\n",
        "from tensorflow.keras.preprocessing.text import one_hot\r\n",
        "from tensorflow.keras.layers import LSTM\r\n",
        "from tensorflow.keras.layers import Dense"
      ],
      "execution_count": 10,
      "outputs": []
    },
    {
      "cell_type": "code",
      "metadata": {
        "id": "_5zGOq7Vsy-v"
      },
      "source": [
        "###Vocabulary size\r\n",
        "voc_size=5000"
      ],
      "execution_count": 11,
      "outputs": []
    },
    {
      "cell_type": "code",
      "metadata": {
        "id": "lzhuFoPpszNW"
      },
      "source": [
        "messages=X.copy()"
      ],
      "execution_count": 12,
      "outputs": []
    },
    {
      "cell_type": "code",
      "metadata": {
        "colab": {
          "base_uri": "https://localhost:8080/",
          "height": 35
        },
        "id": "2PegO8yrtYhx",
        "outputId": "74467cae-c624-430d-f9c9-4d47b4b43d73"
      },
      "source": [
        "messages['title'][1]"
      ],
      "execution_count": 13,
      "outputs": [
        {
          "output_type": "execute_result",
          "data": {
            "application/vnd.google.colaboratory.intrinsic+json": {
              "type": "string"
            },
            "text/plain": [
              "'FLYNN: Hillary Clinton, Big Woman on Campus - Breitbart'"
            ]
          },
          "metadata": {
            "tags": []
          },
          "execution_count": 13
        }
      ]
    },
    {
      "cell_type": "code",
      "metadata": {
        "id": "aAeAK0y5tYvP"
      },
      "source": [
        "messages.reset_index(inplace=True)"
      ],
      "execution_count": 14,
      "outputs": []
    },
    {
      "cell_type": "code",
      "metadata": {
        "id": "aPBlWALjtY_j"
      },
      "source": [
        "import nltk\r\n",
        "import re\r\n",
        "from nltk.corpus import stopwords"
      ],
      "execution_count": 15,
      "outputs": []
    },
    {
      "cell_type": "code",
      "metadata": {
        "colab": {
          "base_uri": "https://localhost:8080/"
        },
        "id": "VTumX_zMtxzy",
        "outputId": "62b251ea-bf6b-4059-d422-c2fe072a3871"
      },
      "source": [
        "nltk.download('stopwords')"
      ],
      "execution_count": 16,
      "outputs": [
        {
          "output_type": "stream",
          "text": [
            "[nltk_data] Downloading package stopwords to /root/nltk_data...\n",
            "[nltk_data]   Unzipping corpora/stopwords.zip.\n"
          ],
          "name": "stdout"
        },
        {
          "output_type": "execute_result",
          "data": {
            "text/plain": [
              "True"
            ]
          },
          "metadata": {
            "tags": []
          },
          "execution_count": 16
        }
      ]
    },
    {
      "cell_type": "code",
      "metadata": {
        "id": "eoZAe8QotyCd"
      },
      "source": [
        "###Dataset preprocessing\r\n",
        "from nltk.stem.porter import PorterStemmer\r\n",
        "ps= PorterStemmer()\r\n",
        "corpus= []\r\n",
        "for i in range(0,len(messages)):\r\n",
        "  review = re.sub('[^a-zA-Z]', ' ', messages['title'][i])\r\n",
        "  review = review.lower()\r\n",
        "  review = review.split()\r\n",
        "  review = [ps.stem(word) for word in review if not word in stopwords.words('english')]\r\n",
        "  review = ' '.join(review)\r\n",
        "  corpus.append(review)"
      ],
      "execution_count": 17,
      "outputs": []
    },
    {
      "cell_type": "code",
      "metadata": {
        "colab": {
          "base_uri": "https://localhost:8080/"
        },
        "id": "3zD8dSWntyOm",
        "outputId": "313a8e0f-00de-45fd-c3a3-1c092693bc3f"
      },
      "source": [
        "corpus[:5]"
      ],
      "execution_count": 18,
      "outputs": [
        {
          "output_type": "execute_result",
          "data": {
            "text/plain": [
              "['hous dem aid even see comey letter jason chaffetz tweet',\n",
              " 'flynn hillari clinton big woman campu breitbart',\n",
              " 'truth might get fire',\n",
              " 'civilian kill singl us airstrik identifi',\n",
              " 'iranian woman jail fiction unpublish stori woman stone death adulteri']"
            ]
          },
          "metadata": {
            "tags": []
          },
          "execution_count": 18
        }
      ]
    },
    {
      "cell_type": "code",
      "metadata": {
        "colab": {
          "base_uri": "https://localhost:8080/"
        },
        "id": "fkolGGBZu08P",
        "outputId": "6becb266-4519-43f6-f210-ff1cc0fafdcd"
      },
      "source": [
        "len(corpus)"
      ],
      "execution_count": 21,
      "outputs": [
        {
          "output_type": "execute_result",
          "data": {
            "text/plain": [
              "18285"
            ]
          },
          "metadata": {
            "tags": []
          },
          "execution_count": 21
        }
      ]
    },
    {
      "cell_type": "code",
      "metadata": {
        "id": "pUFty8Qeu1Ol"
      },
      "source": [
        "onehot_repr=[one_hot(words,voc_size) for words in corpus]"
      ],
      "execution_count": 22,
      "outputs": []
    },
    {
      "cell_type": "code",
      "metadata": {
        "colab": {
          "base_uri": "https://localhost:8080/"
        },
        "id": "D8FrTxqcvrcS",
        "outputId": "bc8127ae-57d1-46a4-903f-f2e8980533cb"
      },
      "source": [
        "onehot_repr[:5]"
      ],
      "execution_count": 23,
      "outputs": [
        {
          "output_type": "execute_result",
          "data": {
            "text/plain": [
              "[[413, 1396, 4107, 1084, 2758, 3474, 3114, 3016, 3853, 1063],\n",
              " [4070, 640, 1881, 3954, 4728, 797, 1733],\n",
              " [3441, 2762, 584, 712],\n",
              " [4785, 3515, 3292, 146, 4087, 3957],\n",
              " [840, 4728, 4826, 1537, 487, 3119, 4728, 1335, 115, 4101]]"
            ]
          },
          "metadata": {
            "tags": []
          },
          "execution_count": 23
        }
      ]
    },
    {
      "cell_type": "code",
      "metadata": {
        "colab": {
          "base_uri": "https://localhost:8080/"
        },
        "id": "8QzC1lj7vwS7",
        "outputId": "6ab26c23-26d7-418d-94c9-0bf0afcd90b0"
      },
      "source": [
        "###every sentence have different length so to make it same length, use pad_sequence\r\n",
        "sent_length=20\r\n",
        "embedded_docs=pad_sequences(onehot_repr,padding='pre',maxlen=sent_length)\r\n",
        "embedded_docs[:5]"
      ],
      "execution_count": 24,
      "outputs": [
        {
          "output_type": "execute_result",
          "data": {
            "text/plain": [
              "array([[   0,    0,    0,    0,    0,    0,    0,    0,    0,    0,  413,\n",
              "        1396, 4107, 1084, 2758, 3474, 3114, 3016, 3853, 1063],\n",
              "       [   0,    0,    0,    0,    0,    0,    0,    0,    0,    0,    0,\n",
              "           0,    0, 4070,  640, 1881, 3954, 4728,  797, 1733],\n",
              "       [   0,    0,    0,    0,    0,    0,    0,    0,    0,    0,    0,\n",
              "           0,    0,    0,    0,    0, 3441, 2762,  584,  712],\n",
              "       [   0,    0,    0,    0,    0,    0,    0,    0,    0,    0,    0,\n",
              "           0,    0,    0, 4785, 3515, 3292,  146, 4087, 3957],\n",
              "       [   0,    0,    0,    0,    0,    0,    0,    0,    0,    0,  840,\n",
              "        4728, 4826, 1537,  487, 3119, 4728, 1335,  115, 4101]],\n",
              "      dtype=int32)"
            ]
          },
          "metadata": {
            "tags": []
          },
          "execution_count": 24
        }
      ]
    },
    {
      "cell_type": "code",
      "metadata": {
        "colab": {
          "base_uri": "https://localhost:8080/"
        },
        "id": "XP7Dcyb9vwbO",
        "outputId": "616eeeca-192a-45f7-f6e8-3548ac138bce"
      },
      "source": [
        "##Creating model\r\n",
        "embedding_vector_features=40\r\n",
        "model=Sequential()\r\n",
        "model.add(Embedding(voc_size,embedding_vector_features,input_length=sent_length))\r\n",
        "model.add(LSTM(100))\r\n",
        "model.add(Dense(1,activation='sigmoid'))\r\n",
        "model.compile(loss='binary_crossentropy',optimizer='adam',metrics=['accuracy'])\r\n",
        "print(model.summary())"
      ],
      "execution_count": 25,
      "outputs": [
        {
          "output_type": "stream",
          "text": [
            "Model: \"sequential\"\n",
            "_________________________________________________________________\n",
            "Layer (type)                 Output Shape              Param #   \n",
            "=================================================================\n",
            "embedding (Embedding)        (None, 20, 40)            200000    \n",
            "_________________________________________________________________\n",
            "lstm (LSTM)                  (None, 100)               56400     \n",
            "_________________________________________________________________\n",
            "dense (Dense)                (None, 1)                 101       \n",
            "=================================================================\n",
            "Total params: 256,501\n",
            "Trainable params: 256,501\n",
            "Non-trainable params: 0\n",
            "_________________________________________________________________\n",
            "None\n"
          ],
          "name": "stdout"
        }
      ]
    },
    {
      "cell_type": "code",
      "metadata": {
        "colab": {
          "base_uri": "https://localhost:8080/"
        },
        "id": "p2MO4s1zvwh7",
        "outputId": "080e7a6f-064b-4e1a-bf06-24abe54bebf1"
      },
      "source": [
        "len(embedded_docs),y.shape"
      ],
      "execution_count": 26,
      "outputs": [
        {
          "output_type": "execute_result",
          "data": {
            "text/plain": [
              "(18285, (18285,))"
            ]
          },
          "metadata": {
            "tags": []
          },
          "execution_count": 26
        }
      ]
    },
    {
      "cell_type": "code",
      "metadata": {
        "id": "OcjugojFysmM"
      },
      "source": [
        "X_final=np.array(embedded_docs)\r\n",
        "y_final=np.array(y)"
      ],
      "execution_count": 27,
      "outputs": []
    },
    {
      "cell_type": "code",
      "metadata": {
        "colab": {
          "base_uri": "https://localhost:8080/"
        },
        "id": "-7-o1M_mysx2",
        "outputId": "7f349954-3f83-4872-bf2a-d6eb1fe76b43"
      },
      "source": [
        "X_final.shape,y_final.shape"
      ],
      "execution_count": 28,
      "outputs": [
        {
          "output_type": "execute_result",
          "data": {
            "text/plain": [
              "((18285, 20), (18285,))"
            ]
          },
          "metadata": {
            "tags": []
          },
          "execution_count": 28
        }
      ]
    },
    {
      "cell_type": "code",
      "metadata": {
        "id": "fhjiaFihzYVk"
      },
      "source": [
        "from sklearn.model_selection import train_test_split\r\n",
        "X_train, X_test, y_train, y_test = train_test_split(X_final, y_final, test_size=0.33, random_state=42)"
      ],
      "execution_count": 29,
      "outputs": []
    },
    {
      "cell_type": "code",
      "metadata": {
        "colab": {
          "base_uri": "https://localhost:8080/"
        },
        "id": "UwmEFv6izYfc",
        "outputId": "534afb62-083a-495c-d12d-0e82c6e77a5b"
      },
      "source": [
        "### Finally Training\r\n",
        "model.fit(X_train,y_train,validation_data=(X_test,y_test),epochs=10,batch_size=64)"
      ],
      "execution_count": 30,
      "outputs": [
        {
          "output_type": "stream",
          "text": [
            "Epoch 1/10\n",
            "192/192 [==============================] - 9s 35ms/step - loss: 0.4701 - accuracy: 0.7517 - val_loss: 0.1963 - val_accuracy: 0.9185\n",
            "Epoch 2/10\n",
            "192/192 [==============================] - 6s 33ms/step - loss: 0.1338 - accuracy: 0.9493 - val_loss: 0.1875 - val_accuracy: 0.9221\n",
            "Epoch 3/10\n",
            "192/192 [==============================] - 7s 35ms/step - loss: 0.0887 - accuracy: 0.9686 - val_loss: 0.2076 - val_accuracy: 0.9186\n",
            "Epoch 4/10\n",
            "192/192 [==============================] - 7s 34ms/step - loss: 0.0688 - accuracy: 0.9738 - val_loss: 0.2354 - val_accuracy: 0.9152\n",
            "Epoch 5/10\n",
            "192/192 [==============================] - 6s 33ms/step - loss: 0.0474 - accuracy: 0.9843 - val_loss: 0.2816 - val_accuracy: 0.9056\n",
            "Epoch 6/10\n",
            "192/192 [==============================] - 6s 33ms/step - loss: 0.0419 - accuracy: 0.9875 - val_loss: 0.2957 - val_accuracy: 0.9148\n",
            "Epoch 7/10\n",
            "192/192 [==============================] - 6s 33ms/step - loss: 0.0332 - accuracy: 0.9893 - val_loss: 0.3596 - val_accuracy: 0.9094\n",
            "Epoch 8/10\n",
            "192/192 [==============================] - 6s 33ms/step - loss: 0.0198 - accuracy: 0.9939 - val_loss: 0.3910 - val_accuracy: 0.9130\n",
            "Epoch 9/10\n",
            "192/192 [==============================] - 6s 34ms/step - loss: 0.0197 - accuracy: 0.9945 - val_loss: 0.5432 - val_accuracy: 0.9044\n",
            "Epoch 10/10\n",
            "192/192 [==============================] - 6s 33ms/step - loss: 0.0172 - accuracy: 0.9949 - val_loss: 0.5787 - val_accuracy: 0.9150\n"
          ],
          "name": "stdout"
        },
        {
          "output_type": "execute_result",
          "data": {
            "text/plain": [
              "<tensorflow.python.keras.callbacks.History at 0x7ff6b0341dd0>"
            ]
          },
          "metadata": {
            "tags": []
          },
          "execution_count": 30
        }
      ]
    },
    {
      "cell_type": "code",
      "metadata": {
        "colab": {
          "base_uri": "https://localhost:8080/"
        },
        "id": "ipz2tkc9z6Fw",
        "outputId": "814fe69c-95cd-4267-bda5-f5dbc3856982"
      },
      "source": [
        "y_pred=model.predict_classes(X_test)"
      ],
      "execution_count": 31,
      "outputs": [
        {
          "output_type": "stream",
          "text": [
            "/usr/local/lib/python3.7/dist-packages/tensorflow/python/keras/engine/sequential.py:450: UserWarning: `model.predict_classes()` is deprecated and will be removed after 2021-01-01. Please use instead:* `np.argmax(model.predict(x), axis=-1)`,   if your model does multi-class classification   (e.g. if it uses a `softmax` last-layer activation).* `(model.predict(x) > 0.5).astype(\"int32\")`,   if your model does binary classification   (e.g. if it uses a `sigmoid` last-layer activation).\n",
            "  warnings.warn('`model.predict_classes()` is deprecated and '\n"
          ],
          "name": "stderr"
        }
      ]
    },
    {
      "cell_type": "code",
      "metadata": {
        "id": "pW6r_3Sez6bS"
      },
      "source": [
        "from sklearn.metrics import confusion_matrix"
      ],
      "execution_count": 32,
      "outputs": []
    },
    {
      "cell_type": "code",
      "metadata": {
        "colab": {
          "base_uri": "https://localhost:8080/"
        },
        "id": "U45-Xkiy0OEq",
        "outputId": "f4646f79-591f-422e-a1f3-17026965f8d6"
      },
      "source": [
        "confusion_matrix(y_test,y_pred)"
      ],
      "execution_count": 33,
      "outputs": [
        {
          "output_type": "execute_result",
          "data": {
            "text/plain": [
              "array([[3121,  298],\n",
              "       [ 215, 2401]])"
            ]
          },
          "metadata": {
            "tags": []
          },
          "execution_count": 33
        }
      ]
    },
    {
      "cell_type": "code",
      "metadata": {
        "colab": {
          "base_uri": "https://localhost:8080/"
        },
        "id": "mnzzrWG60OTW",
        "outputId": "1e714977-ec0e-4b29-c8d4-4d55ccb3986f"
      },
      "source": [
        "from sklearn.metrics import accuracy_score\r\n",
        "accuracy_score(y_test,y_pred)"
      ],
      "execution_count": 34,
      "outputs": [
        {
          "output_type": "execute_result",
          "data": {
            "text/plain": [
              "0.9149958574979288"
            ]
          },
          "metadata": {
            "tags": []
          },
          "execution_count": 34
        }
      ]
    },
    {
      "cell_type": "markdown",
      "metadata": {
        "id": "5wjfQu2A0gGl"
      },
      "source": [
        "Adding Dropout"
      ]
    },
    {
      "cell_type": "code",
      "metadata": {
        "id": "g-abl_ZF0ek7"
      },
      "source": [
        "from tensorflow.keras.layers import Dropout\r\n",
        "## Creating model\r\n",
        "embedding_vector_features=40\r\n",
        "model=Sequential()\r\n",
        "model.add(Embedding(voc_size,embedding_vector_features,input_length=sent_length))\r\n",
        "model.add(Dropout(0.3))\r\n",
        "model.add(LSTM(100))\r\n",
        "model.add(Dropout(0.3))\r\n",
        "model.add(Dense(1,activation='sigmoid'))\r\n",
        "model.compile(loss='binary_crossentropy',optimizer='adam',metrics=['accuracy'])"
      ],
      "execution_count": null,
      "outputs": []
    }
  ]
}